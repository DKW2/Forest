{
 "cells": [
  {
   "cell_type": "markdown",
   "metadata": {},
   "source": [
    "# Forest\n",
    "## Table of Contents\n",
    "* What is Forest?\n",
    "* Example Picture\n",
    "* Explanation\n",
    "## What is Forest?\n",
    "    Forest is a program that uses the Python package \"turtle\" to create an image of a forest and huts using rectangles and triangles. Using random number generators, the tree's color, tree's position, and hut's position will all be different each iteration of the program. \n",
    "## Example Picture\n",
    "![Imgur](https://i.imgur.com/b2gZdU7l.png)\n",
    "## Explanation\n",
    "    As you can see, the program prints a number from 10 - 15 trees "
   ]
  },
  {
   "cell_type": "code",
   "execution_count": null,
   "metadata": {},
   "outputs": [],
   "source": []
  },
  {
   "cell_type": "code",
   "execution_count": null,
   "metadata": {},
   "outputs": [],
   "source": []
  }
 ],
 "metadata": {
  "kernelspec": {
   "display_name": "Python 3",
   "language": "python",
   "name": "python3"
  },
  "language_info": {
   "codemirror_mode": {
    "name": "ipython",
    "version": 3
   },
   "file_extension": ".py",
   "mimetype": "text/x-python",
   "name": "python",
   "nbconvert_exporter": "python",
   "pygments_lexer": "ipython3",
   "version": "3.6.3"
  }
 },
 "nbformat": 4,
 "nbformat_minor": 2
}
